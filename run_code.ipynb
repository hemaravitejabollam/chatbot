run /content/drive/MyDrive/gpt_project/gpt.ipynb
